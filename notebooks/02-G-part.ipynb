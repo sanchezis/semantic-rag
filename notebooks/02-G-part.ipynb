{
 "cells": [
  {
   "cell_type": "markdown",
   "metadata": {},
   "source": [
    "> Israel Llorens <br/>\n",
    "> Lead Data Science"
   ]
  },
  {
   "cell_type": "code",
   "execution_count": 1,
   "metadata": {},
   "outputs": [],
   "source": [
    "import nest_asyncio\n",
    "nest_asyncio.apply()\n",
    "\n",
    "import os\n",
    "\n",
    "os.environ[\"OBJC_DISABLE_INITIALIZE_FORK_SAFETY\"] = \"YES\" # if you are running in macos Apple chip\n",
    "os.environ[\"TOKENIZERS_PARALLELISM\"] = \"false\"\n",
    "\n",
    "import openai\n",
    "import init\n",
    "import pickle\n",
    "\n",
    "from dotenv import load_dotenv\n",
    "\n",
    "import datetime\n",
    "from pinecone import Pinecone, ServerlessSpec\n",
    "\n",
    "from openai import OpenAI\n",
    "import pandas as pd\n",
    "\n",
    "from pydantic import BaseModel, Field\n",
    "from typing import List, Dict, Tuple\n",
    "from typing import Dict, Optional, Any\n",
    "\n",
    "import warnings\n",
    "warnings.filterwarnings(\"ignore\", category=FutureWarning)\n",
    "\n",
    "load_dotenv();\n",
    "\n",
    "from Framework.genai.generator import *"
   ]
  },
  {
   "cell_type": "markdown",
   "metadata": {},
   "source": [
    "## "
   ]
  },
  {
   "cell_type": "code",
   "execution_count": 2,
   "metadata": {},
   "outputs": [
    {
     "data": {
      "text/plain": [
       "'Hello! How can I assist you today?'"
      ]
     },
     "execution_count": 2,
     "metadata": {},
     "output_type": "execute_result"
    }
   ],
   "source": [
    "c = OpenAIChatLLM()\n",
    "c.generate('hi')"
   ]
  },
  {
   "cell_type": "code",
   "execution_count": 9,
   "metadata": {},
   "outputs": [
    {
     "name": "stdout",
     "output_type": "stream",
     "text": [
      " A VSAT (Very Small Aperture Terminal) is a type of satellite communication system that uses small satellite dishes to send and receive data from satellites. It is commonly used for internet access, data transmission, and other communication services in remote areas.\n",
      "\n"
     ]
    }
   ],
   "source": [
    "openai_rag = RagBot(\n",
    "    llm=OpenAIChatLLM(temperature=0, model='gpt-4o-mini'), \n",
    "    stop_pattern=['[END]'], \n",
    "    verbose=False\n",
    "    )\n",
    "print(openai_rag.run('what is a VSAT?'))"
   ]
  },
  {
   "cell_type": "code",
   "execution_count": 10,
   "metadata": {},
   "outputs": [
    {
     "name": "stdout",
     "output_type": "stream",
     "text": [
      "[START]\n",
      "User Input: what is a VSAT?\n",
      "Context: VSAT refers to a technology used for satellite communications, often involving small satellite dishes that can send and receive data from satellites in orbit.\n",
      "Context Document: 18.txt\n",
      "Context Score: 0.65\n",
      "Assistant Thought: This context provides some information about Viasat, but it does not directly define what a VSAT is.\n",
      "Assistant Response: A VSAT (Very Small Aperture Terminal) is a type of satellite communication system that uses small satellite dishes to send and receive data from satellites. It is commonly used for internet access, data transmission, and other communication services in remote areas.\n",
      "\n"
     ]
    }
   ],
   "source": [
    "print(openai_rag.ai_responses[0])"
   ]
  },
  {
   "cell_type": "code",
   "execution_count": 11,
   "metadata": {},
   "outputs": [
    {
     "name": "stdout",
     "output_type": "stream",
     "text": [
      "[START]\n",
      "User Input: what is a VSAT?\n",
      "Document: 18.txt\n",
      "Score: 0.65\n",
      "Text: \"(NASDAQ: VSAT), a global leader in satellite communications, and Deutsche Telekom, announced today a ground network expansion for Viasat’s award-winning European Aviation Network (EAN) to further support in-flight broadband service in the Eastern part of the Mediterranean Sea.\"\n",
      "[START]\n",
      "User Input: what is a VSAT?\n",
      "Context: VSAT refers to a technology used for satellite communications, often involving small satellite dishes that can send and receive data from satellites in orbit.\n",
      "Context Document: 18.txt\n",
      "Context Score: 0.65\n",
      "Assistant Thought: This context provides some information about Viasat, but it does not directly define what a VSAT is.\n",
      "Assistant Response: A VSAT (Very Small Aperture Terminal) is a type of satellite communication system that uses small satellite dishes to send and receive data from satellites. It is commonly used for internet access, data transmission, and other communication services in remote areas.\n",
      "\n",
      "[END]\n"
     ]
    }
   ],
   "source": [
    "print(openai_rag.running_convolution)"
   ]
  }
 ],
 "metadata": {
  "kernelspec": {
   "display_name": ".venv",
   "language": "python",
   "name": "python3"
  },
  "language_info": {
   "codemirror_mode": {
    "name": "ipython",
    "version": 3
   },
   "file_extension": ".py",
   "mimetype": "text/x-python",
   "name": "python",
   "nbconvert_exporter": "python",
   "pygments_lexer": "ipython3",
   "version": "3.11.4"
  }
 },
 "nbformat": 4,
 "nbformat_minor": 2
}
